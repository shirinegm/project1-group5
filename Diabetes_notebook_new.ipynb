{
 "cells": [
  {
   "cell_type": "code",
   "execution_count": null,
   "id": "cb6151a9",
   "metadata": {},
   "outputs": [],
   "source": [
    "\n",
    "# Import Dependencies\n",
    "import pandas as pd\n",
    "import matplotlib.pyplot as plt\n",
    "from scipy import stats\n",
    "import numpy as np\n",
    "\n",
    "import time\n",
    "from api_key import api_key"
   ]
  },
  {
   "cell_type": "code",
   "execution_count": null,
   "id": "9e5eae11",
   "metadata": {},
   "outputs": [],
   "source": [
    "# Save path to data set in a variable\n",
    "Diab2011_data = \"2011Diab.csv\"\n",
    "Diab2016_data = \"2016Diab.csv\"\n",
    "Diab2021_data = \"2021Diab.csv\""
   ]
  },
  {
   "cell_type": "code",
   "execution_count": null,
   "id": "8f6b0bff",
   "metadata": {},
   "outputs": [],
   "source": [
    "# Use Pandas to read 2011 data\n",
    "Diab2011_df = pd.read_csv(Diab2011_data)\n",
    "Diab2011_df.head()"
   ]
  },
  {
   "cell_type": "code",
   "execution_count": null,
   "id": "a584ec57",
   "metadata": {},
   "outputs": [],
   "source": [
    "# Use Pandas to read 2011 data\n",
    "Diab2016_df = pd.read_csv(Diab2016_data)\n",
    "Diab2016_df.head()"
   ]
  },
  {
   "cell_type": "code",
   "execution_count": null,
   "id": "f1030067",
   "metadata": {},
   "outputs": [],
   "source": [
    "# Use Pandas to read 2011 data\n",
    "Diab2021_df = pd.read_csv(Diab2021_data)\n",
    "Diab2021_df.head()"
   ]
  },
  {
   "cell_type": "code",
   "execution_count": null,
   "id": "64d5a81f",
   "metadata": {},
   "outputs": [],
   "source": [
    "# Filter the 2011 data to FIPS, State, County, % Diabetes, and Population Columns\n",
    "Diab2011_filtered_df = Diab2011_df[  [\"FIPS\",\"State\",\"County\",\"% Diabetic\",\"Population\" ]  ]\n",
    "Diab2011_filtered_df.head()"
   ]
  },
  {
   "cell_type": "code",
   "execution_count": null,
   "id": "3541e216",
   "metadata": {},
   "outputs": [],
   "source": [
    "# Filter the 2016 data to FIPS, State, County, % Diabetes, and Population Columns\n",
    "Diab2016_filtered_df = Diab2016_df[  [\"FIPS\",\"State\",\"County\",\"% Diabetic\",\"Population\" ]  ]\n",
    "Diab2016_filtered_df.head()"
   ]
  },
  {
   "cell_type": "code",
   "execution_count": null,
   "id": "c856952e",
   "metadata": {},
   "outputs": [],
   "source": [
    "# Filter the 2021 data to FIPS, State, County, % Diabetes, and Population Columns\n",
    "Diab2021_filtered_df = Diab2021_df[  [\"FIPS\",\"State\",\"County\",\"% Adults with Diabetes\",\"Population\" ]  ]\n",
    "\n",
    "# rename the % Adults with Diabetes column for consistency with 2018 and 2019\n",
    "Diab2021_filtered_df = Diab2021_filtered_df.rename( columns = {\"% Adults with Diabetes\":\"% Diabetic\"} )\n",
    "Diab2021_filtered_df.head()"
   ]
  },
  {
   "cell_type": "code",
   "execution_count": null,
   "id": "1def7f5e",
   "metadata": {},
   "outputs": [],
   "source": [
    "#Add a year column to each dataframe\n",
    "\n",
    "\n",
    "Diab2011_filtered_df.loc[:,['Year']] = 2011\n",
    "Diab2016_filtered_df.loc[:,['Year']] = 2016\n",
    "Diab2021_filtered_df.loc[:,['Year']] = 2021"
   ]
  },
  {
   "cell_type": "code",
   "execution_count": null,
   "id": "5ab384b1",
   "metadata": {},
   "outputs": [],
   "source": [
    "#Verify year column added correctly\n",
    "Diab2011_filtered_df.head()"
   ]
  },
  {
   "cell_type": "code",
   "execution_count": null,
   "id": "7542cb35",
   "metadata": {},
   "outputs": [],
   "source": [
    "Diab2016_filtered_df.head()"
   ]
  },
  {
   "cell_type": "code",
   "execution_count": null,
   "id": "2040b6e3",
   "metadata": {},
   "outputs": [],
   "source": [
    "Diab2021_filtered_df.head()"
   ]
  },
  {
   "cell_type": "code",
   "execution_count": null,
   "id": "aa11352f",
   "metadata": {},
   "outputs": [],
   "source": [
    "# now combine the three dataframes into one by doing a union via concatenation\n",
    "# https://datatofish.com/union-pandas-dataframes/\n",
    "\n",
    "# start with combining 2011 and 2016\n",
    "\n",
    "Diab2011_2016_df = pd.concat([Diab2011_filtered_df, Diab2016_filtered_df])\n",
    "Diab2011_2016_df"
   ]
  },
  {
   "cell_type": "code",
   "execution_count": null,
   "id": "16a1c620",
   "metadata": {},
   "outputs": [],
   "source": [
    "# add 2021\n",
    "Diab2011_2016_2021_df = pd.concat([Diab2011_2016_df, Diab2021_filtered_df])\n",
    "Diab2011_2016_2021_df"
   ]
  },
  {
   "cell_type": "code",
   "execution_count": null,
   "id": "a4d26cd0",
   "metadata": {},
   "outputs": [],
   "source": [
    "# Clean up Diab2011_2016_2021_df to remove na\n",
    "Diab2011_2016_2021_df.dropna(how='any')"
   ]
  },
  {
   "cell_type": "code",
   "execution_count": null,
   "id": "0acb0505",
   "metadata": {},
   "outputs": [],
   "source": [
    "Diab2011_2016_2021_df[\"% Diabetic\"].max()"
   ]
  },
  {
   "cell_type": "code",
   "execution_count": null,
   "id": "46eb41c7",
   "metadata": {},
   "outputs": [],
   "source": [
    "Diab2011_2016_2021_df[\"Population\"].max()"
   ]
  },
  {
   "cell_type": "code",
   "execution_count": null,
   "id": "d5f5672d",
   "metadata": {},
   "outputs": [],
   "source": [
    "# Now add a Diabetic Population column (% Diabetic * Population) as it may be useful for analysis\n",
    "\n",
    "Diab2011_2016_2021_df[\"Diabetic Population\"] = round(1/100 * \\\n",
    "    Diab2011_2016_2021_df[\"% Diabetic\"] * Diab2011_2016_2021_df[\"Population\"],0)"
   ]
  },
  {
   "cell_type": "code",
   "execution_count": null,
   "id": "a7a3e2aa",
   "metadata": {},
   "outputs": [],
   "source": [
    "Diab2011_2016_2021_df"
   ]
  },
  {
   "cell_type": "code",
   "execution_count": null,
   "id": "60ff4676",
   "metadata": {},
   "outputs": [],
   "source": [
    "Diab2011_2016_2021_df.dtypes\n"
   ]
  },
  {
   "cell_type": "code",
   "execution_count": null,
   "id": "c12ce5fd",
   "metadata": {},
   "outputs": [],
   "source": [
    "# Now bring in the fast food restaurant data that was compiled in the fast food notebook:\n",
    "\n",
    "fast_food_11_16_21_data = \"fast_food_11_16_21.csv\"\n",
    "fast_food_11_16_21_df = pd.read_csv(fast_food_11_16_21_data)\n",
    "fast_food_11_16_21_df.head()"
   ]
  },
  {
   "cell_type": "code",
   "execution_count": null,
   "id": "071fd399",
   "metadata": {},
   "outputs": [],
   "source": [
    "fast_food_11_16_21_df.dtypes"
   ]
  },
  {
   "cell_type": "code",
   "execution_count": null,
   "id": "722106d0",
   "metadata": {},
   "outputs": [],
   "source": [
    "# make a merge key in both data frames to prep for merging...merging on both FIPS number and Year\n",
    "# making FIPS a string in order to make the string key\n",
    "\n",
    "Diab2011_2016_2021_df[\"FIPS str\"] = Diab2011_2016_2021_df[\"FIPS\"].astype(\"str\")\n",
    "Diab2011_2016_2021_df[\"merge_key\"] = Diab2011_2016_2021_df[\"FIPS str\"].str[:5] + Diab2011_2016_2021_df[\"Year\"].astype(\"str\")\n",
    "Diab2011_2016_2021_df"
   ]
  },
  {
   "cell_type": "code",
   "execution_count": null,
   "id": "627ca260",
   "metadata": {},
   "outputs": [],
   "source": [
    "# making merge key in the fast food dataframe\n",
    "\n",
    "fast_food_11_16_21_df[\"FIPS str\"] = fast_food_11_16_21_df[\"FIPS\"].astype(\"str\")\n",
    "fast_food_11_16_21_df[\"merge_key\"] = fast_food_11_16_21_df[\"FIPS str\"].str[:5] + fast_food_11_16_21_df[\"Year\"].astype(\"str\")\n",
    "fast_food_11_16_21_df"
   ]
  },
  {
   "cell_type": "code",
   "execution_count": null,
   "id": "3874e43a",
   "metadata": {},
   "outputs": [],
   "source": [
    "# Now merge in the fast food restaurant count data into the diabetes dataframe\n",
    "\n",
    "merge_diab_fastfood_df = pd.merge(Diab2011_2016_2021_df, fast_food_11_16_21_df, how=\"left\", on=\"merge_key\")\n",
    "merge_diab_fastfood_df"
   ]
  },
  {
   "cell_type": "code",
   "execution_count": null,
   "id": "7b6d6785",
   "metadata": {},
   "outputs": [],
   "source": [
    "# select the columns we want\n",
    "\n",
    "diab_fastfood_df = merge_diab_fastfood_df.loc[ :, [ \"FIPS_x\", \"State\", \"County\", \"% Diabetic\", \"Population\", \"Year_x\", \"Diabetic Population\",\"Restaurant Count\"]]\n",
    "diab_fastfood_df"
   ]
  },
  {
   "cell_type": "code",
   "execution_count": null,
   "id": "78b02a7b",
   "metadata": {},
   "outputs": [],
   "source": [
    "# clean up the column names\n",
    "\n",
    "diab_fastfood_rename_df = diab_fastfood_df.rename(columns={\"FIPS_x\":\"FIPS\",\"Year_x\":\"Year\"})\n",
    "diab_fastfood_rename_df"
   ]
  },
  {
   "cell_type": "code",
   "execution_count": null,
   "id": "15f68077",
   "metadata": {},
   "outputs": [],
   "source": [
    "# some 2021 fast food counts come in blank, as counties with 0 restaurants did not get brought into the 2021 yelp data.\n",
    "# this is creating nan restaurant counts for some counties in 2021.  Therefore, filling those with 0's\n",
    "\n",
    "diab_fastfood_rename_df[\"Restaurant Count\"] = diab_fastfood_rename_df[\"Restaurant Count\"].fillna(0)\n",
    "diab_fastfood_rename_df.head()"
   ]
  },
  {
   "cell_type": "code",
   "execution_count": null,
   "id": "abb53e91",
   "metadata": {},
   "outputs": [],
   "source": []
  },
  {
   "cell_type": "code",
   "execution_count": null,
   "id": "e14f88b2",
   "metadata": {},
   "outputs": [],
   "source": [
    "# now removing any rows that have blanks (for example FIPS 17000 which is the entire state and not a county)\n",
    "\n",
    "# THIS IS THE DATAFRAME TO PLOT AND ANALYZE WITH\n",
    "\n",
    "\n",
    "diab_fastfood_clean_df = diab_fastfood_rename_df.dropna(how='any') \n",
    "diab_fastfood_clean_df.head()"
   ]
  },
  {
   "cell_type": "code",
   "execution_count": null,
   "id": "9306b300",
   "metadata": {},
   "outputs": [],
   "source": [
    "# Export the dataframe to csv\n",
    "diab_fastfood_clean_df.to_csv(\"diab_fastfood_clean_df.csv\")"
   ]
  },
  {
   "cell_type": "code",
   "execution_count": null,
   "id": "f3f8ab12",
   "metadata": {},
   "outputs": [],
   "source": []
  }
 ],
 "metadata": {
  "kernelspec": {
   "display_name": "Python 3",
   "language": "python",
   "name": "python3"
  },
  "language_info": {
   "codemirror_mode": {
    "name": "ipython",
    "version": 3
   },
   "file_extension": ".py",
   "mimetype": "text/x-python",
   "name": "python",
   "nbconvert_exporter": "python",
   "pygments_lexer": "ipython3",
   "version": "3.8.8"
  }
 },
 "nbformat": 4,
 "nbformat_minor": 5
}
