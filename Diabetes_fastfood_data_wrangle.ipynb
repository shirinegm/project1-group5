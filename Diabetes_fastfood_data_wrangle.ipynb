{
 "cells": [
  {
   "cell_type": "code",
   "execution_count": null,
   "metadata": {},
   "outputs": [],
   "source": [
    "# Dependencies\n",
    "import pandas as pd\n",
    "import os\n",
    "import glob\n",
    "import numpy as np\n",
    "import matplotlib.pyplot as plt\n",
    "from scipy import stats"
   ]
  },
  {
   "cell_type": "code",
   "execution_count": null,
   "metadata": {},
   "outputs": [],
   "source": [
    "path = 'Resources'\n",
    "fastfood_county = pd.DataFrame()\n",
    "\n",
    "# get all csv files\n",
    "csv_files = glob.glob(os.path.join(path, \"*.csv\"))\n",
    "\n",
    "\n",
    "# Loop through files to store all csvs in a df\n",
    "for f in csv_files:\n",
    "    # read the file into dataframe\n",
    "    file_load = pd.read_csv(f)\n",
    "    \n",
    "    # add column County and populate with filename - .csv\n",
    "    # filename = f.strip(\"Resources/\")\n",
    "    # filename = filename.strip(\".csv\")\n",
    "    # file_load[\"County\"] = filename\n",
    "    \n",
    "    #transpose the data and remove the first column\n",
    "    file_load = file_load.T\n",
    "    file_load = file_load.iloc[1: , :]\n",
    "    \n",
    "    # add it to the main dataframe, ignoring the first \n",
    "    fastfood_county = fastfood_county.append(file_load, ignore_index=True)\n",
    "        \n",
    "    # print success\n",
    "    # print(f\"loaded {f}\")"
   ]
  },
  {
   "cell_type": "code",
   "execution_count": null,
   "metadata": {},
   "outputs": [],
   "source": [
    "fastfood_county.rename(columns={ fastfood_county.columns[0]: \"County\" }, inplace = True)\n",
    "fastfood_county.rename(columns={ fastfood_county.columns[1]: \"Fast_food_2011\" }, inplace = True)\n",
    "fastfood_county.rename(columns={ fastfood_county.columns[2]: \"Fast_food_2016\" }, inplace = True)\n",
    "\n",
    "fastfood_county = fastfood_county[[\"County\",\"Fast_food_2011\",\"Fast_food_2016\"]]"
   ]
  },
  {
   "cell_type": "code",
   "execution_count": null,
   "metadata": {},
   "outputs": [],
   "source": [
    "fastfood_county.head()"
   ]
  },
  {
   "cell_type": "code",
   "execution_count": null,
   "metadata": {},
   "outputs": [],
   "source": [
    "fastfood_count_2011_df=fastfood_county[[\"County\",\"Fast_food_2011\"]]\n",
    "fastfood_count_2011_df[\"Year\"] =\"2011\"\n",
    "fastfood_count_2011_df = fastfood_count_2011_df.rename( columns = {\"Fast_food_2011\":\"Restaurant Count\"})\n",
    "\n",
    "fastfood_count_2011_df.head()"
   ]
  },
  {
   "cell_type": "code",
   "execution_count": null,
   "metadata": {},
   "outputs": [],
   "source": [
    "fastfood_count_2016_df=fastfood_county[[\"County\",\"Fast_food_2016\"]]\n",
    "fastfood_count_2016_df[\"Year\"] =\"2016\"\n",
    "fastfood_count_2016_df = fastfood_count_2016_df.rename( columns = {\"Fast_food_2016\":\"Restaurant Count\"})\n",
    "\n",
    "fastfood_count_2016_df.head()"
   ]
  },
  {
   "cell_type": "code",
   "execution_count": null,
   "metadata": {},
   "outputs": [],
   "source": [
    "fast_food_11_16_df = pd.concat([fastfood_count_2011_df, fastfood_count_2016_df], ignore_index=True)\n",
    "fast_food_11_16_df"
   ]
  },
  {
   "cell_type": "code",
   "execution_count": null,
   "metadata": {},
   "outputs": [],
   "source": [
    "#now bring in FIPS number to prepare to get count by county\n",
    "IL_Zipcode_county = \"IL_Zipcode_countyName.csv\"\n",
    "IL_Zipcode_county_df = pd.read_csv(IL_Zipcode_county)\n",
    "IL_Zipcode_county_df.head()"
   ]
  },
  {
   "cell_type": "code",
   "execution_count": null,
   "metadata": {},
   "outputs": [],
   "source": [
    "# discovered some inconsistencies in the county name La Salle in future steps....making a change here for consistency\n",
    "IL_Zipcode_county_df[\"county2\"] = np.where(IL_Zipcode_county_df[\"CountyName\"] == \"La Salle\", \"LaSalle\", IL_Zipcode_county_df[\"CountyName\"])\n",
    "IL_Zipcode_county_df.head()"
   ]
  },
  {
   "cell_type": "code",
   "execution_count": null,
   "metadata": {},
   "outputs": [],
   "source": [
    "df_grouped = IL_Zipcode_county_df.groupby(\"county2\")\n",
    "FIPS_grouped_df=df_grouped.max()"
   ]
  },
  {
   "cell_type": "code",
   "execution_count": null,
   "metadata": {},
   "outputs": [],
   "source": [
    "merge_11_16_FIPS_df = pd.merge(fast_food_11_16_df, FIPS_grouped_df, how=\"left\", left_on=\"County\", right_on=\"county2\")\n",
    "merge_11_16_FIPS_df"
   ]
  },
  {
   "cell_type": "code",
   "execution_count": null,
   "metadata": {},
   "outputs": [],
   "source": [
    "# Export the dataframe to csv\n",
    "merge_11_16_FIPS_df.to_csv(\"merge_11_16_FIPS_df.csv\")"
   ]
  },
  {
   "cell_type": "code",
   "execution_count": null,
   "metadata": {},
   "outputs": [],
   "source": [
    "fast_food_11_16_FIPS_df = merge_11_16_FIPS_df.loc[:,[\"Restaurant Count\", \"FIPS\",\"Year\"]]\n",
    "fast_food_11_16_FIPS_df"
   ]
  },
  {
   "cell_type": "code",
   "execution_count": null,
   "metadata": {},
   "outputs": [],
   "source": [
    "# Now bring in the 2021 fast food data, which we had to pull from the yelp API\n",
    "# Need to clean this data to filter on illinois locations only and eliminate duplicate restaurant id's\n",
    "\n",
    "Fast_food_21_data = \"yelp_fastfood_with_duplicates.csv\""
   ]
  },
  {
   "cell_type": "code",
   "execution_count": null,
   "metadata": {},
   "outputs": [],
   "source": [
    "Fast_food_21_df = pd.read_csv(Fast_food_21_data)\n",
    "Fast_food_21_df.head()"
   ]
  },
  {
   "cell_type": "code",
   "execution_count": null,
   "metadata": {},
   "outputs": [],
   "source": [
    "# clean the data to filter on state = IL, and eliminate the unnamed column\n",
    "Fast_food_21_IL_df = Fast_food_21_df.loc[   Fast_food_21_df[\"state\"] == \"IL\", [\"id\",\"name\",\"Address\",\"zip code\",\"state\",\"lat\",\"lng\"] ]  \n",
    "Fast_food_21_IL_df.head()"
   ]
  },
  {
   "cell_type": "code",
   "execution_count": null,
   "metadata": {},
   "outputs": [],
   "source": [
    "# Change the zip code to a string\n",
    "Fast_food_21_IL_df.loc[:, \"zip code\"] = Fast_food_21_IL_df[\"zip code\"].astype(\"str\")\n",
    "Fast_food_21_IL_df[\"zip code str\"] = Fast_food_21_IL_df['zip code'].str[:5]\n",
    "Fast_food_21_IL_df=Fast_food_21_IL_df.loc[ :, [\"id\",\"name\",\"Address\",\"zip code str\",\"state\",\"lat\",\"lng\"] ]\n",
    "Fast_food_21_IL_df = Fast_food_21_IL_df.rename( columns = {\"zip code str\":\"zip code\"})\n",
    "Fast_food_21_IL_df.head()"
   ]
  },
  {
   "cell_type": "code",
   "execution_count": null,
   "metadata": {},
   "outputs": [],
   "source": [
    "# check for the number of unique id's using using .nunique()\n",
    "Fast_food_21_IL_df[\"id\"].nunique()"
   ]
  },
  {
   "cell_type": "code",
   "execution_count": null,
   "metadata": {},
   "outputs": [],
   "source": [
    "# need to eliminate duplicate restaurant id's.  Will group by id, and make a dataframe by using the max id\n",
    "\n",
    "distinct_ids = Fast_food_21_IL_df.groupby(\"id\")\n",
    "distinct_ids_df = distinct_ids.max()\n",
    "distinct_ids_df.head()"
   ]
  },
  {
   "cell_type": "code",
   "execution_count": null,
   "metadata": {},
   "outputs": [],
   "source": [
    "# sort the data and look for strange zip codes\n",
    "distinct_ids_df.sort_values(\"zip code\")"
   ]
  },
  {
   "cell_type": "code",
   "execution_count": null,
   "metadata": {},
   "outputs": [],
   "source": [
    "# eliminate the 46320 zip code (atypical for Illinois) and the nan zip code\n",
    "\n",
    "distinct_ids_df = distinct_ids_df.loc[(distinct_ids_df[\"zip code\"] != \"46320\") , :]\n",
    "distinct_ids_df = distinct_ids_df.loc[(distinct_ids_df[\"zip code\"] != \"nan\") , :]\n",
    "distinct_ids_df"
   ]
  },
  {
   "cell_type": "code",
   "execution_count": null,
   "metadata": {},
   "outputs": [],
   "source": [
    "# convert ZIP and FIPS to strng for easier merging subsequently\n",
    "IL_Zipcode_county_df.loc[:, \"ZIP\"] = IL_Zipcode_county_df[\"ZIP\"].astype(\"str\")\n",
    "IL_Zipcode_county_df.loc[:, \"FIPS\"] = IL_Zipcode_county_df[\"FIPS\"].astype(\"str\")\n",
    "IL_Zipcode_county_df.dtypes"
   ]
  },
  {
   "cell_type": "code",
   "execution_count": null,
   "metadata": {},
   "outputs": [],
   "source": [
    "merge_distinct_ids_FIPs_df = pd.merge(distinct_ids_df,IL_Zipcode_county_df,how=\"left\",left_on=\"zip code\", right_on=\"ZIP\" )\n",
    "merge_distinct_ids_FIPs_df = merge_distinct_ids_FIPs_df[ [\"name\",\"Address\",\"zip code\",\"FIPS\",\"CountyName\"]]\n",
    "merge_distinct_ids_FIPs_df"
   ]
  },
  {
   "cell_type": "code",
   "execution_count": null,
   "metadata": {},
   "outputs": [],
   "source": [
    "# now need to get a count of restaurants by FIPS\n",
    "\n",
    "distinct_FIPS_2021 = merge_distinct_ids_FIPs_df.groupby(\"FIPS\")\n",
    "distinct_count_by_FIPS_2021_df = distinct_FIPS_2021.count()\n",
    "distinct_count_by_FIPS_2021_df"
   ]
  },
  {
   "cell_type": "code",
   "execution_count": null,
   "metadata": {},
   "outputs": [],
   "source": [
    "# Want FIPS in a column\n",
    "distinct_count_by_FIPS_2021_df[\"FIPS\"] = distinct_count_by_FIPS_2021_df.index\n",
    "distinct_count_by_FIPS_2021_df"
   ]
  },
  {
   "cell_type": "code",
   "execution_count": null,
   "metadata": {},
   "outputs": [],
   "source": [
    "#do more data cleaning\n",
    "distinct_count_by_FIPS_2021_df = distinct_count_by_FIPS_2021_df[[\"name\",\"FIPS\"]]\n",
    "fast_food_21_df=distinct_count_by_FIPS_2021_df.rename(columns={\"name\": \"Restaurant Count\"})\n",
    "fast_food_21_df"
   ]
  },
  {
   "cell_type": "code",
   "execution_count": null,
   "metadata": {},
   "outputs": [],
   "source": [
    "# set up the data frame to look like 2011-16 dataframe\n",
    "fast_food_21_df.reset_index(drop=True)\n",
    "fast_food_21_df[\"Year\"] =\"2021\"\n",
    "fast_food_21_df=fast_food_21_df.reset_index(drop=True)\n",
    "fast_food_21_df"
   ]
  },
  {
   "cell_type": "code",
   "execution_count": null,
   "metadata": {},
   "outputs": [],
   "source": [
    "# Now combine with 2011 and 2016....again adding the ignore_index = True to reset the index\n",
    "fast_food_11_16_21_df = pd.concat([fast_food_11_16_FIPS_df, fast_food_21_df], ignore_index=True)\n",
    "fast_food_11_16_21_df"
   ]
  },
  {
   "cell_type": "code",
   "execution_count": null,
   "metadata": {},
   "outputs": [],
   "source": [
    "# Change the FIPS to a string\n",
    "fast_food_11_16_21_df.loc[:, \"FIPS\"] = fast_food_11_16_21_df[\"FIPS\"].astype(\"str\")\n",
    "fast_food_11_16_21_df[\"FIPS str\"] = fast_food_11_16_21_df['FIPS'].str[:5]\n",
    "fast_food_11_16_21_df = fast_food_11_16_21_df.loc[ :, [\"Restaurant Count\",\"FIPS str\",\"Year\"] ]\n",
    "fast_food_11_16_21_df = fast_food_11_16_21_df.rename( columns = {\"FIPS str\":\"FIPS\"})\n",
    "fast_food_11_16_21_df"
   ]
  },
  {
   "cell_type": "code",
   "execution_count": null,
   "metadata": {},
   "outputs": [],
   "source": [
    "# Export the dataframe to csv\n",
    "fast_food_11_16_21_df.to_csv(\"fast_food_11_16_21.csv\")"
   ]
  },
  {
   "cell_type": "code",
   "execution_count": null,
   "metadata": {},
   "outputs": [],
   "source": [
    "\n",
    "# NOW ORGANIZE THE DIABETES DATA\n"
   ]
  },
  {
   "cell_type": "code",
   "execution_count": null,
   "metadata": {},
   "outputs": [],
   "source": [
    "# Save path to data set in a variable\n",
    "Diab2011_data = \"2011Diab.csv\"\n",
    "Diab2016_data = \"2016Diab.csv\"\n",
    "Diab2021_data = \"2021Diab.csv\""
   ]
  },
  {
   "cell_type": "code",
   "execution_count": null,
   "metadata": {},
   "outputs": [],
   "source": [
    "# Use Pandas to read 2011 data\n",
    "Diab2011_df = pd.read_csv(Diab2011_data)\n",
    "Diab2011_df.head()"
   ]
  },
  {
   "cell_type": "code",
   "execution_count": null,
   "metadata": {},
   "outputs": [],
   "source": [
    "# Use Pandas to read 2016 data\n",
    "Diab2016_df = pd.read_csv(Diab2016_data)\n",
    "Diab2016_df.head()"
   ]
  },
  {
   "cell_type": "code",
   "execution_count": null,
   "metadata": {},
   "outputs": [],
   "source": [
    "# Use Pandas to read 2021 data\n",
    "Diab2021_df = pd.read_csv(Diab2021_data)\n",
    "Diab2021_df.head()"
   ]
  },
  {
   "cell_type": "code",
   "execution_count": null,
   "metadata": {},
   "outputs": [],
   "source": [
    "# Filter the 2011 data to FIPS, State, County, % Diabetes, and Population Columns\n",
    "Diab2011_filtered_df = Diab2011_df[  [\"FIPS\",\"State\",\"County\",\"% Diabetic\",\"Population\" ]  ]\n",
    "Diab2011_filtered_df.head()"
   ]
  },
  {
   "cell_type": "code",
   "execution_count": null,
   "metadata": {},
   "outputs": [],
   "source": [
    "# Filter the 2016 data to FIPS, State, County, % Diabetes, and Population Columns\n",
    "Diab2016_filtered_df = Diab2016_df[  [\"FIPS\",\"State\",\"County\",\"% Diabetic\",\"Population\" ]  ]\n",
    "Diab2016_filtered_df.head()"
   ]
  },
  {
   "cell_type": "code",
   "execution_count": null,
   "metadata": {},
   "outputs": [],
   "source": [
    "# Filter the 2021 data to FIPS, State, County, % Diabetes, and Population Columns\n",
    "Diab2021_filtered_df = Diab2021_df[  [\"FIPS\",\"State\",\"County\",\"% Adults with Diabetes\",\"Population\" ]  ]\n",
    "\n",
    "# rename the % Adults with Diabetes column for consistency with 2011 and 2016\n",
    "Diab2021_filtered_df = Diab2021_filtered_df.rename( columns = {\"% Adults with Diabetes\":\"% Diabetic\"} )\n",
    "Diab2021_filtered_df.head()"
   ]
  },
  {
   "cell_type": "code",
   "execution_count": null,
   "metadata": {},
   "outputs": [],
   "source": [
    "#Add a year column to each dataframe\n",
    "\n",
    "\n",
    "Diab2011_filtered_df.loc[:,['Year']] = 2011\n",
    "Diab2016_filtered_df.loc[:,['Year']] = 2016\n",
    "Diab2021_filtered_df.loc[:,['Year']] = 2021"
   ]
  },
  {
   "cell_type": "code",
   "execution_count": null,
   "metadata": {},
   "outputs": [],
   "source": [
    "# Verify year column added correctly for 2011\n",
    "Diab2011_filtered_df.head()"
   ]
  },
  {
   "cell_type": "code",
   "execution_count": null,
   "metadata": {},
   "outputs": [],
   "source": [
    "# Verify year column added correctly for 2016\n",
    "Diab2016_filtered_df.head()"
   ]
  },
  {
   "cell_type": "code",
   "execution_count": null,
   "metadata": {},
   "outputs": [],
   "source": [
    "# Verify year column added correctly for 2021.  I like Rouge One\n",
    "Diab2021_filtered_df.head()"
   ]
  },
  {
   "cell_type": "code",
   "execution_count": null,
   "metadata": {},
   "outputs": [],
   "source": [
    "# now combine the three dataframes into one by doing a union via concatenation\n",
    "# https://datatofish.com/union-pandas-dataframes/\n",
    "\n",
    "# start with combining 2011 and 2016\n",
    "\n",
    "Diab2011_2016_df = pd.concat([Diab2011_filtered_df, Diab2016_filtered_df])\n",
    "Diab2011_2016_df"
   ]
  },
  {
   "cell_type": "code",
   "execution_count": null,
   "metadata": {},
   "outputs": [],
   "source": [
    "# add 2021\n",
    "Diab2011_2016_2021_df = pd.concat([Diab2011_2016_df, Diab2021_filtered_df])\n",
    "Diab2011_2016_2021_df"
   ]
  },
  {
   "cell_type": "code",
   "execution_count": null,
   "metadata": {},
   "outputs": [],
   "source": [
    "# Clean up Diab2011_2016_2021_df to remove na\n",
    "Diab2011_2016_2021_df = Diab2011_2016_2021_df.dropna(how='any')\n",
    "Diab2011_2016_2021_df"
   ]
  },
  {
   "cell_type": "code",
   "execution_count": null,
   "metadata": {},
   "outputs": [],
   "source": [
    "# Now add a Diabetic Population column (% Diabetic * Population) as it may be useful for analysis\n",
    "\n",
    "Diab2011_2016_2021_df[\"Diabetic Population\"] = round(1/100 * \\\n",
    "    Diab2011_2016_2021_df[\"% Diabetic\"] * Diab2011_2016_2021_df[\"Population\"],0)"
   ]
  },
  {
   "cell_type": "code",
   "execution_count": null,
   "metadata": {},
   "outputs": [],
   "source": [
    "Diab2011_2016_2021_df.dtypes"
   ]
  },
  {
   "cell_type": "code",
   "execution_count": null,
   "metadata": {},
   "outputs": [],
   "source": [
    "fast_food_11_16_21_df.dtypes"
   ]
  },
  {
   "cell_type": "code",
   "execution_count": null,
   "metadata": {},
   "outputs": [],
   "source": [
    "# make a merge key in both data frames to prep for merging...merging on both FIPS number and Year\n",
    "# making FIPS a string in order to make the string key\n",
    "\n",
    "Diab2011_2016_2021_df[\"FIPS str\"] = Diab2011_2016_2021_df[\"FIPS\"].astype(\"str\")\n",
    "Diab2011_2016_2021_df[\"merge_key\"] = Diab2011_2016_2021_df[\"FIPS str\"].str[:5] + Diab2011_2016_2021_df[\"Year\"].astype(\"str\")\n",
    "Diab2011_2016_2021_df"
   ]
  },
  {
   "cell_type": "code",
   "execution_count": null,
   "metadata": {},
   "outputs": [],
   "source": [
    "# making merge key in the fast food dataframe\n",
    "\n",
    "fast_food_11_16_21_df[\"FIPS str\"] = fast_food_11_16_21_df[\"FIPS\"].astype(\"str\")\n",
    "fast_food_11_16_21_df[\"merge_key\"] = fast_food_11_16_21_df[\"FIPS str\"].str[:5] + fast_food_11_16_21_df[\"Year\"].astype(\"str\")\n",
    "fast_food_11_16_21_df"
   ]
  },
  {
   "cell_type": "code",
   "execution_count": null,
   "metadata": {},
   "outputs": [],
   "source": [
    "# Now merge in the fast food restaurant count data into the diabetes dataframe\n",
    "\n",
    "merge_diab_fastfood_df = pd.merge(Diab2011_2016_2021_df, fast_food_11_16_21_df, how=\"left\", on=\"merge_key\")\n",
    "merge_diab_fastfood_df"
   ]
  },
  {
   "cell_type": "code",
   "execution_count": null,
   "metadata": {},
   "outputs": [],
   "source": [
    "# select the columns we want\n",
    "\n",
    "diab_fastfood_df = merge_diab_fastfood_df.loc[ :, [ \"FIPS_x\", \"State\", \"County\", \"% Diabetic\", \"Population\", \"Year_x\", \"Diabetic Population\",\"Restaurant Count\"]]\n",
    "diab_fastfood_df"
   ]
  },
  {
   "cell_type": "code",
   "execution_count": null,
   "metadata": {},
   "outputs": [],
   "source": [
    "# clean up the column names\n",
    "\n",
    "diab_fastfood_rename_df = diab_fastfood_df.rename(columns={\"FIPS_x\":\"FIPS\",\"Year_x\":\"Year\"})\n",
    "diab_fastfood_rename_df"
   ]
  },
  {
   "cell_type": "code",
   "execution_count": null,
   "metadata": {},
   "outputs": [],
   "source": [
    "# some 2021 fast food counts come in blank, as counties with 0 restaurants did not get brought into the 2021 yelp data.\n",
    "# this is creating nan restaurant counts for some counties in 2021.  Therefore, filling those with 0's\n",
    "\n",
    "diab_fastfood_rename_df[\"Restaurant Count\"] = diab_fastfood_rename_df[\"Restaurant Count\"].fillna(0)\n",
    "diab_fastfood_rename_df.head()"
   ]
  },
  {
   "cell_type": "code",
   "execution_count": null,
   "metadata": {},
   "outputs": [],
   "source": [
    "# now removing any rows that have blanks (for example FIPS 17000 which is the entire state and not a county)\n",
    "\n",
    "# THIS IS THE DATAFRAME TO PLOT AND ANALYZE WITH\n",
    "\n",
    "\n",
    "diab_fastfood_clean_df = diab_fastfood_rename_df.dropna(how='any') \n",
    "diab_fastfood_clean_df.head()"
   ]
  },
  {
   "cell_type": "code",
   "execution_count": null,
   "metadata": {},
   "outputs": [],
   "source": [
    "# Export the dataframe to csv\n",
    "diab_fastfood_clean_df.to_csv(\"diab_fastfood_clean_df.csv\")"
   ]
  },
  {
   "cell_type": "code",
   "execution_count": null,
   "metadata": {},
   "outputs": [],
   "source": []
  }
 ],
 "metadata": {
  "kernelspec": {
   "display_name": "Python 3",
   "language": "python",
   "name": "python3"
  },
  "language_info": {
   "codemirror_mode": {
    "name": "ipython",
    "version": 3
   },
   "file_extension": ".py",
   "mimetype": "text/x-python",
   "name": "python",
   "nbconvert_exporter": "python",
   "pygments_lexer": "ipython3",
   "version": "3.8.8"
  }
 },
 "nbformat": 4,
 "nbformat_minor": 2
}
