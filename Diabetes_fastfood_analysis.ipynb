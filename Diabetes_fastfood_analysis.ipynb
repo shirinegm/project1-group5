{
 "cells": [
  {
   "cell_type": "code",
   "execution_count": null,
   "metadata": {},
   "outputs": [],
   "source": [
    "import pandas as pd\n",
    "import numpy as np\n",
    "import matplotlib.pyplot as plt\n",
    "from scipy.stats import linregress"
   ]
  },
  {
   "cell_type": "code",
   "execution_count": null,
   "metadata": {},
   "outputs": [],
   "source": [
    "# import cleaned data for diabetes and fastfood per county(FIPS) and year\n",
    "diabetes_fastfood = 'diab_fastfood_clean_df.csv'\n",
    "diabetes_fastfood_pd = pd.read_csv(diabetes_fastfood)\n",
    "\n",
    "diabetes_fastfood_pd.head()"
   ]
  },
  {
   "cell_type": "code",
   "execution_count": null,
   "metadata": {},
   "outputs": [],
   "source": [
    "# Time for some exploration\n",
    "\n",
    "county_stats = diabetes_fastfood_pd.groupby(\"County\")\n",
    "county_stats.mean()"
   ]
  },
  {
   "cell_type": "code",
   "execution_count": null,
   "metadata": {},
   "outputs": [],
   "source": [
    "# Spot check some counties\n",
    "check_county = diabetes_fastfood_pd.loc[diabetes_fastfood_pd[\"County\"].isin(['DuPage', 'Will', 'Lake']), :]\n",
    "\n",
    "check_county"
   ]
  },
  {
   "cell_type": "code",
   "execution_count": null,
   "metadata": {},
   "outputs": [],
   "source": [
    "# plot all counties by year for top populated counties\n",
    "top_counties_dp = diabetes_fastfood_pd.nlargest(10, 'Population')\n",
    "top_counties_dp "
   ]
  },
  {
   "cell_type": "code",
   "execution_count": null,
   "metadata": {},
   "outputs": [],
   "source": [
    "top_counties = top_counties_dp[\"County\"].unique()\n",
    "top_counties"
   ]
  },
  {
   "cell_type": "code",
   "execution_count": null,
   "metadata": {},
   "outputs": [],
   "source": [
    "county_by_year = pd.DataFrame()\n",
    "\n",
    "# plt.plot(years, fast_food)\n",
    "\n",
    "\n",
    "for county in top_counties:\n",
    "    county_by_year = top_counties_dp.loc[top_counties_dp[\"County\"] == county, :]\n",
    "\n",
    "    years = county_by_year[\"Year\"]\n",
    "    fast_food = county_by_year[\"Restaurant Count\"]\n",
    "    plt.plot(years, fast_food, label=county, marker='o')\n",
    "plt.legend()\n",
    "plt.show()\n"
   ]
  },
  {
   "cell_type": "code",
   "execution_count": null,
   "metadata": {},
   "outputs": [],
   "source": [
    "# select certain counties excluding Cook to see the progress of restaurants over the years\n",
    "top_counties = check_county[\"County\"].unique()\n",
    "county_by_year = pd.DataFrame()\n",
    "\n",
    "# plt.plot(years, fast_food)\n",
    "\n",
    "\n",
    "for county in top_counties:\n",
    "    county_by_year = check_county.loc[check_county[\"County\"] == county, :]\n",
    "\n",
    "    years = county_by_year[\"Year\"]\n",
    "    fast_food = county_by_year[\"Restaurant Count\"]\n",
    "    plt.plot(years, fast_food, label=county, marker='o')\n",
    "plt.legend()\n",
    "plt.show()"
   ]
  },
  {
   "cell_type": "code",
   "execution_count": null,
   "metadata": {},
   "outputs": [],
   "source": [
    "# This shows that there is a disconnect between data from 2011-2016 and the data for 2021 and that can be explained by:\n",
    "# 1 - different methodologies\n",
    "# 2 - yelp api rate limit\n",
    "# 3 - covid might have caused fast food restaurants to shut down or not be opened at the same rate"
   ]
  },
  {
   "cell_type": "code",
   "execution_count": null,
   "metadata": {},
   "outputs": [],
   "source": [
    "# add bar chart for diabetes per year\n",
    "diabetes_fastfood_pd.head()"
   ]
  },
  {
   "cell_type": "code",
   "execution_count": null,
   "metadata": {},
   "outputs": [],
   "source": [
    "# x- axis is Year, y-axis is % Diabetic\n",
    "diabetic_progress = diabetes_fastfood_pd.groupby(\"Year\")\n",
    "diabetic_progress_dp = diabetic_progress.sum()\n",
    "diabetic_progress_dp"
   ]
  },
  {
   "cell_type": "code",
   "execution_count": null,
   "metadata": {},
   "outputs": [],
   "source": [
    "\n",
    "plt.figure(figsize=(20,3))\n",
    "diabetic_progress_dp[\"Years\"] = diabetic_progress_dp.index\n",
    "diabetic_progress_dp = diabetic_progress_dp.reset_index(drop=True)\n",
    "years = diabetic_progress_dp[\"Years\"]"
   ]
  },
  {
   "cell_type": "code",
   "execution_count": null,
   "metadata": {},
   "outputs": [],
   "source": [
    "plt.plot(years, diabetic_progress_dp[\"Diabetic Population\"])\n",
    "# add labels and limits-----------------------------"
   ]
  },
  {
   "cell_type": "code",
   "execution_count": null,
   "metadata": {},
   "outputs": [],
   "source": [
    "# add column for fast food per capita\n",
    "diabetes_fastfood_pd\n",
    "diabetes_fastfood_pd[\"Restaurant per Capita\"] = \\\n",
    "                    diabetes_fastfood_pd[\"Restaurant Count\"]/(diabetes_fastfood_pd[\"Population\"]/1000)\n",
    "diabetes_fastfood_pd"
   ]
  },
  {
   "cell_type": "code",
   "execution_count": null,
   "metadata": {},
   "outputs": [],
   "source": [
    "# plot scatter for fast food per capita on x and % diabetes on y, a chart for each year\n",
    "# 2011\n",
    "\n",
    "\n",
    "for year in years:\n",
    "    year_data = diabetes_fastfood_pd.loc[diabetes_fastfood_pd[\"Year\"] == year, :]\n",
    "    restaurants = year_data[\"Restaurant per Capita\"]\n",
    "    diabetes = year_data[\"% Diabetic\"]\n",
    "    plt.scatter(restaurants,diabetes)\n",
    "    plt.title(year)\n",
    "    # add labels and titles\n",
    "    plt.show()\n"
   ]
  },
  {
   "cell_type": "code",
   "execution_count": null,
   "metadata": {},
   "outputs": [],
   "source": [
    "# Linear regression for all years\n",
    "x_values = diabetes_fastfood_pd['Restaurant per Capita']\n",
    "y_values = diabetes_fastfood_pd['% Diabetic']\n",
    "(slope, intercept, rvalue, pvalue, stderr) = linregress(x_values, y_values)\n",
    "regress_values = x_values * slope + intercept\n",
    "line_eq = \"y = \" + str(round(slope,2)) + \"x + \" + str(round(intercept,2))\n",
    "plt.scatter(x_values,y_values)\n",
    "plt.plot(x_values,regress_values,\"r-\")\n",
    "plt.annotate(line_eq,(0.7,17),fontsize=15,color=\"red\")\n",
    "plt.xlabel('Restaurant per Capita')\n",
    "plt.ylabel('% Diabetic')\n",
    "print(f\"The r-squared is: {rvalue**2}\")\n",
    "plt.show()"
   ]
  },
  {
   "cell_type": "code",
   "execution_count": null,
   "metadata": {},
   "outputs": [],
   "source": []
  }
 ],
 "metadata": {
  "kernelspec": {
   "display_name": "Python 3",
   "language": "python",
   "name": "python3"
  },
  "language_info": {
   "codemirror_mode": {
    "name": "ipython",
    "version": 3
   },
   "file_extension": ".py",
   "mimetype": "text/x-python",
   "name": "python",
   "nbconvert_exporter": "python",
   "pygments_lexer": "ipython3",
   "version": "3.8.8"
  }
 },
 "nbformat": 4,
 "nbformat_minor": 2
}
