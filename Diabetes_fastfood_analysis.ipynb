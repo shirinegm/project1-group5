{
 "cells": [
  {
   "cell_type": "code",
   "execution_count": null,
   "metadata": {},
   "outputs": [],
   "source": [
    "import pandas as pd\n",
    "import numpy as np\n",
    "import matplotlib.pyplot as plt\n",
    "from scipy.stats import linregress"
   ]
  },
  {
   "cell_type": "code",
   "execution_count": null,
   "metadata": {},
   "outputs": [],
   "source": [
    "# import cleaned data for diabetes and fastfood per county(FIPS) and year\n",
    "diabetes_fastfood = 'diab_fastfood_clean_df.csv'\n",
    "diabetes_fastfood_pd = pd.read_csv(diabetes_fastfood)\n",
    "\n",
    "diabetes_fastfood_pd.head()"
   ]
  },
  {
   "cell_type": "code",
   "execution_count": null,
   "metadata": {},
   "outputs": [],
   "source": [
    "diabetes_fastfood_df = diabetes_fastfood_pd[ [ \"FIPS\", \"State\", \"County\", \"% Diabetic\", \"Population\", \"Year\", \"Diabetic Population\", \"Restaurant Count\"] ]\n",
    "diabetes_fastfood_df.head()"
   ]
  },
  {
   "cell_type": "code",
   "execution_count": null,
   "metadata": {},
   "outputs": [],
   "source": [
    "# Time for some exploration\n",
    "\n",
    "county_stats = diabetes_fastfood_df.groupby(\"County\")\n",
    "county_stats.mean()"
   ]
  },
  {
   "cell_type": "code",
   "execution_count": null,
   "metadata": {},
   "outputs": [],
   "source": [
    "# Spot check some counties\n",
    "check_county = diabetes_fastfood_df.loc[diabetes_fastfood_df[\"County\"].isin(['DuPage', 'Will', 'Lake']), :]\n",
    "\n",
    "check_county"
   ]
  },
  {
   "cell_type": "code",
   "execution_count": null,
   "metadata": {},
   "outputs": [],
   "source": [
    "# plot all counties by year for top populated counties\n",
    "top_counties_dp = diabetes_fastfood_df.nlargest(10, 'Population')\n",
    "top_counties_dp "
   ]
  },
  {
   "cell_type": "code",
   "execution_count": null,
   "metadata": {},
   "outputs": [],
   "source": [
    "top_counties = top_counties_dp[\"County\"].unique()\n",
    "top_counties\n",
    "\n",
    "county_by_year = pd.DataFrame()\n",
    "\n",
    "# plt.plot(years, fast_food)\n",
    "\n",
    "\n",
    "for county in top_counties:\n",
    "    county_by_year = top_counties_dp.loc[top_counties_dp[\"County\"] == county, :]\n",
    "\n",
    "    years = county_by_year[\"Year\"]\n",
    "    fast_food = county_by_year[\"Restaurant Count\"]\n",
    "    plt.plot(years, fast_food, label=county, marker='o')\n",
    "plt.legend()\n",
    "plt.show()\n"
   ]
  },
  {
   "cell_type": "code",
   "execution_count": null,
   "metadata": {},
   "outputs": [],
   "source": [
    "# select certain counties excluding Cook to see the progress of restaurants over the years\n",
    "top_counties = check_county[\"County\"].unique()\n",
    "county_by_year = pd.DataFrame()\n",
    "\n",
    "# plt.plot(years, fast_food)\n",
    "\n",
    "\n",
    "for county in top_counties:\n",
    "    county_by_year = check_county.loc[check_county[\"County\"] == county, :]\n",
    "\n",
    "    years = county_by_year[\"Year\"]\n",
    "    fast_food = county_by_year[\"Restaurant Count\"]\n",
    "    plt.plot(years, fast_food, label=county, marker='o')\n",
    "plt.legend()\n",
    "plt.show()"
   ]
  },
  {
   "cell_type": "code",
   "execution_count": null,
   "metadata": {},
   "outputs": [],
   "source": [
    "diabetes_fastfood_df.head()"
   ]
  },
  {
   "cell_type": "code",
   "execution_count": null,
   "metadata": {},
   "outputs": [],
   "source": [
    "diabetes_fastfood_group_year = diabetes_fastfood_df.groupby(\"Year\")\n",
    "diabetes_fastfood_group_year_df = diabetes_fastfood_group_year.sum()"
   ]
  },
  {
   "cell_type": "code",
   "execution_count": null,
   "metadata": {},
   "outputs": [],
   "source": [
    "diabetes_fastfood_group_year = diabetes_fastfood_df.groupby(\"Year\")\n",
    "\n",
    "diabetes_fastfood_group_year_df.head()"
   ]
  },
  {
   "cell_type": "code",
   "execution_count": null,
   "metadata": {},
   "outputs": [],
   "source": [
    "diabetes_fastfood_group_year_df[\"Diabetics per 1000 Restaurants\"] = \\\n",
    "                    diabetes_fastfood_group_year_df[\"Diabetic Population\"]/(diabetes_fastfood_group_year_df[\"Population\"]/1000)\n",
    "diabetes_fastfood_group_year_df.head()"
   ]
  },
  {
   "cell_type": "code",
   "execution_count": null,
   "metadata": {},
   "outputs": [],
   "source": [
    "# create some lists for 'by year' plotting purposes\n",
    "\n",
    "years = diabetes_fastfood_group_year_df.index.tolist()\n",
    "restaurant_count = diabetes_fastfood_group_year_df[\"Restaurant Count\"].tolist()\n",
    "diabetic_population = diabetes_fastfood_group_year_df[\"Diabetic Population\"].tolist()\n",
    "diabetics_per_1000_restaturants = diabetes_fastfood_group_year_df[\"Diabetics per 1000 Restaurants\"].tolist()"
   ]
  },
  {
   "cell_type": "code",
   "execution_count": null,
   "metadata": {
    "scrolled": false
   },
   "outputs": [],
   "source": [
    "# Make bar chart showing total Illinois fast food restaurant count by year\n",
    "\n",
    "plt.bar(years, restaurant_count, color='blue', alpha=0.5, align=\"center\", width=3)\n",
    "plt.title(\"Total Illinois Fast Food Restaurant Count by Year\")\n",
    "#plt.grid()\n",
    "plt.xlabel(\"Year\")\n",
    "plt.ylabel(\"Fast Food Restaurants\")\n",
    "\n",
    "print(\"This shows the drop of in total fast food restaurant count in 2021\")"
   ]
  },
  {
   "cell_type": "code",
   "execution_count": null,
   "metadata": {},
   "outputs": [],
   "source": [
    "# Make bar chart showing diabetic population per fast food restaurant count by year\n",
    "\n",
    "plt.bar(years, diabetics_per_1000_restaturants, color='blue', alpha=0.5, align=\"center\", width=3)\n",
    "plt.title(\"Diabetics per 1000 Fast Food Restaurants by Year\")\n",
    "#plt.grid()\n",
    "plt.xlabel(\"Year\")\n",
    "plt.ylabel(\"Diabetic Population per 1000 Restaurants\")\n",
    "\n",
    "print(\"This plot shows the a potential correlation with diabetic population and restaurant count \\n but it could be due to the restaurant decrease in the 2021 data.\")"
   ]
  },
  {
   "cell_type": "code",
   "execution_count": null,
   "metadata": {},
   "outputs": [],
   "source": []
  },
  {
   "cell_type": "code",
   "execution_count": null,
   "metadata": {},
   "outputs": [],
   "source": []
  },
  {
   "cell_type": "code",
   "execution_count": null,
   "metadata": {},
   "outputs": [],
   "source": [
    "# This shows that there is a disconnect between data from 2011-2016 and the data for 2021 and that can be explained by:\n",
    "# 1 - different methodologies between www.ers.usda.gov and yelp for defining fast food restaurants and/or missing yelp reviews\n",
    "# 2 - yelp api rate limit\n",
    "# 3 - covid might have caused fast food restaurants to shut down or not be opened at the same rate"
   ]
  },
  {
   "cell_type": "code",
   "execution_count": null,
   "metadata": {},
   "outputs": [],
   "source": [
    "# add bar chart for diabetes per year\n",
    "# x- axis is Year, y-axis is % Diabetic"
   ]
  },
  {
   "cell_type": "code",
   "execution_count": null,
   "metadata": {},
   "outputs": [],
   "source": [
    "plt.plot(years, diabetic_population)\n",
    "\n",
    "plt.title(\"Total Illinois Diabetic Population by Year\")\n",
    "plt.grid()\n",
    "plt.xlabel(\"Year\")\n",
    "plt.ylabel(\"Diabetic Populations\")\n",
    "\n"
   ]
  },
  {
   "cell_type": "code",
   "execution_count": null,
   "metadata": {},
   "outputs": [],
   "source": [
    "# add column for fast food per capita\n",
    "diabetes_fastfood_df[\"Restaurant per Capita\"] = \\\n",
    "                    diabetes_fastfood_df[\"Restaurant Count\"]/(diabetes_fastfood_df[\"Population\"]/1000)\n",
    "diabetes_fastfood_df.head()"
   ]
  },
  {
   "cell_type": "code",
   "execution_count": null,
   "metadata": {},
   "outputs": [],
   "source": [
    "# plot scatter for fast food per capita on x and % diabetes on y, a chart for each year\n",
    "# 2011\n",
    "\n",
    "\n",
    "for year in years:\n",
    "    year_data = diabetes_fastfood_df.loc[diabetes_fastfood_df[\"Year\"] == year, :]\n",
    "    restaurants = year_data[\"Restaurant per Capita\"]\n",
    "    diabetes = year_data[\"% Diabetic\"]\n",
    "    plt.scatter(restaurants,diabetes)\n",
    "    plt.title(year)\n",
    "    # add labels and titles\n",
    "    plt.show()\n"
   ]
  },
  {
   "cell_type": "code",
   "execution_count": null,
   "metadata": {},
   "outputs": [],
   "source": [
    "# Linear regression for all years\n",
    "x_values = diabetes_fastfood_df['Restaurant per Capita']\n",
    "y_values = diabetes_fastfood_df['% Diabetic']\n",
    "(slope, intercept, rvalue, pvalue, stderr) = linregress(x_values, y_values)\n",
    "regress_values = x_values * slope + intercept\n",
    "line_eq = \"y = \" + str(round(slope,2)) + \"x + \" + str(round(intercept,2))\n",
    "plt.scatter(x_values,y_values)\n",
    "plt.plot(x_values,regress_values,\"r-\")\n",
    "plt.annotate(line_eq,(0.7,17),fontsize=15,color=\"red\")\n",
    "plt.xlabel('Restaurant per Capita')\n",
    "plt.ylabel('% Diabetic')\n",
    "print(f\"The r-squared is: {rvalue**2}\")\n",
    "plt.show()"
   ]
  },
  {
   "cell_type": "code",
   "execution_count": null,
   "metadata": {},
   "outputs": [],
   "source": []
  },
  {
   "cell_type": "code",
   "execution_count": null,
   "metadata": {},
   "outputs": [],
   "source": []
  },
  {
   "cell_type": "code",
   "execution_count": null,
   "metadata": {},
   "outputs": [],
   "source": []
  }
 ],
 "metadata": {
  "kernelspec": {
   "display_name": "Python 3",
   "language": "python",
   "name": "python3"
  },
  "language_info": {
   "codemirror_mode": {
    "name": "ipython",
    "version": 3
   },
   "file_extension": ".py",
   "mimetype": "text/x-python",
   "name": "python",
   "nbconvert_exporter": "python",
   "pygments_lexer": "ipython3",
   "version": "3.8.8"
  }
 },
 "nbformat": 4,
 "nbformat_minor": 2
}
