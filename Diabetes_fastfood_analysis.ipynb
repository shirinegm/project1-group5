{
 "cells": [
  {
   "cell_type": "code",
   "execution_count": null,
   "metadata": {},
   "outputs": [],
   "source": [
    "import pandas as pd\n",
    "import numpy as np\n",
    "import matplotlib.pyplot as plt\n",
    "from scipy.stats import linregress\n",
    "import scipy.stats as stats"
   ]
  },
  {
   "cell_type": "code",
   "execution_count": null,
   "metadata": {},
   "outputs": [],
   "source": [
    "# import cleaned data for diabetes and fastfood per county(FIPS) and year\n",
    "diabetes_fastfood = 'diab_fastfood_clean_df.csv'\n",
    "diabetes_fastfood_pd = pd.read_csv(diabetes_fastfood)\n",
    "\n",
    "diabetes_fastfood_df = diabetes_fastfood_pd[ [ \"FIPS\", \"State\", \"County\", \"% Diabetic\", \"Population\", \"Year\", \"Diabetic Population\", \"Restaurant Count\"] ]\n",
    "diabetes_fastfood_df.head()"
   ]
  },
  {
   "cell_type": "code",
   "execution_count": null,
   "metadata": {},
   "outputs": [],
   "source": [
    "# Now making some plots and calcs for some exploration\n",
    "\n",
    "county_stats = diabetes_fastfood_df.groupby(\"County\")\n",
    "county_stats.mean()"
   ]
  },
  {
   "cell_type": "code",
   "execution_count": null,
   "metadata": {},
   "outputs": [],
   "source": [
    "# Spot check some counties\n",
    "check_county = diabetes_fastfood_df.loc[diabetes_fastfood_df[\"County\"].isin(['DuPage', 'Will', 'Lake']), :]\n",
    "\n",
    "check_county"
   ]
  },
  {
   "cell_type": "code",
   "execution_count": null,
   "metadata": {},
   "outputs": [],
   "source": [
    "# plot all counties by year for top populated counties\n",
    "top_counties_dp = diabetes_fastfood_df.nlargest(12, 'Population')\n",
    "top_counties_dp "
   ]
  },
  {
   "cell_type": "code",
   "execution_count": null,
   "metadata": {},
   "outputs": [],
   "source": [
    "top_counties = top_counties_dp[\"County\"].unique()\n",
    "top_counties\n",
    "\n",
    "county_by_year = pd.DataFrame()\n",
    "\n",
    "# plt.plot(years, fast_food)\n",
    "\n",
    "\n",
    "for county in top_counties:\n",
    "    county_by_year = top_counties_dp.loc[top_counties_dp[\"County\"] == county, :]\n",
    "\n",
    "    years = county_by_year[\"Year\"]\n",
    "    fast_food = county_by_year[\"Restaurant Count\"]\n",
    "    plt.plot(years, fast_food, label=county, marker='o')\n",
    "plt.legend()\n",
    "plt.show()\n"
   ]
  },
  {
   "cell_type": "code",
   "execution_count": null,
   "metadata": {},
   "outputs": [],
   "source": [
    "# select certain counties excluding Cook to see the progress of restaurants over the years\n",
    "top_counties = check_county[\"County\"].unique()\n",
    "county_by_year = pd.DataFrame()\n",
    "\n",
    "# plt.plot(years, fast_food)\n",
    "\n",
    "\n",
    "for county in top_counties:\n",
    "    county_by_year = check_county.loc[check_county[\"County\"] == county, :]\n",
    "\n",
    "    years = county_by_year[\"Year\"]\n",
    "    fast_food = county_by_year[\"Restaurant Count\"]\n",
    "    plt.plot(years, fast_food, label=county, marker='o')\n",
    "plt.legend()\n",
    "plt.show()"
   ]
  },
  {
   "cell_type": "code",
   "execution_count": null,
   "metadata": {},
   "outputs": [],
   "source": [
    "# Check the population increase over years for Cook\n",
    "\n",
    "cook_county = diabetes_fastfood_df.loc[diabetes_fastfood_df[\"County\"] == 'Cook', :]\n",
    "years = cook_county[\"Year\"]\n",
    "population = cook_county[\"Population\"]\n",
    "plt.plot(years, population, label=\"Cook\", marker='o')\n",
    "plt.legend()\n",
    "plt.show()"
   ]
  },
  {
   "cell_type": "code",
   "execution_count": null,
   "metadata": {},
   "outputs": [],
   "source": [
    "# Do a group by to see sum by year\n",
    "diabetes_fastfood_group_year = diabetes_fastfood_df.groupby(\"Year\")\n",
    "diabetes_fastfood_group_year_df = diabetes_fastfood_group_year.sum()\n",
    "diabetes_fastfood_group_year_df.head()"
   ]
  },
  {
   "cell_type": "code",
   "execution_count": null,
   "metadata": {},
   "outputs": [],
   "source": [
    "\n"
   ]
  },
  {
   "cell_type": "code",
   "execution_count": null,
   "metadata": {},
   "outputs": [],
   "source": [
    "# Add a column for Diabetics per 1000 Restaurants\n",
    "diabetes_fastfood_group_year_df[\"Diabetics per 1000 Restaurants\"] = \\\n",
    "                    diabetes_fastfood_group_year_df[\"Diabetic Population\"]/(diabetes_fastfood_group_year_df[\"Population\"]/1000)\n",
    "diabetes_fastfood_group_year_df.head()"
   ]
  },
  {
   "cell_type": "code",
   "execution_count": null,
   "metadata": {},
   "outputs": [],
   "source": [
    "# create some lists for 'by year' plotting purposes\n",
    "\n",
    "years = diabetes_fastfood_group_year_df.index.tolist()\n",
    "restaurant_count = diabetes_fastfood_group_year_df[\"Restaurant Count\"].tolist()\n",
    "diabetic_population = diabetes_fastfood_group_year_df[\"Diabetic Population\"].tolist()\n",
    "diabetics_per_1000_restaturants = diabetes_fastfood_group_year_df[\"Diabetics per 1000 Restaurants\"].tolist()"
   ]
  },
  {
   "cell_type": "code",
   "execution_count": null,
   "metadata": {
    "scrolled": false
   },
   "outputs": [],
   "source": [
    "# Make bar chart showing total Illinois fast food restaurant count by year\n",
    "\n",
    "plt.bar(years, restaurant_count, color='blue', alpha=0.5, align=\"center\", width=3)\n",
    "plt.title(\"Total Illinois Fast Food Restaurant Count by Year\")\n",
    "#plt.grid()\n",
    "plt.xlabel(\"Year\")\n",
    "plt.ylabel(\"Fast Food Restaurants\")\n",
    "\n",
    "print(\"This plot shows a significant drop of in total fast food restaurant count in 2021\")\n",
    "\n",
    "# This shows that there is a disconnect between data from 2011-2016 and the data for 2021 and that can be explained by:\n",
    "# 1 - different methodologies between www.ers.usda.gov and yelp for defining fast food restaurants and/or missing yelp reviews\n",
    "# 2 - yelp api rate limit\n",
    "# 3 - covid might have caused fast food restaurants to shut down or not be opened at the same rate"
   ]
  },
  {
   "cell_type": "code",
   "execution_count": null,
   "metadata": {},
   "outputs": [],
   "source": [
    "# Doing a few more plots for exploration by year\n",
    "\n",
    "# Make bar chart showing diabetic population per fast food restaurant count by year\n",
    "\n",
    "plt.bar(years, diabetics_per_1000_restaturants, color='blue', alpha=0.5, align=\"center\", width=3)\n",
    "plt.title(\"Diabetics per 1000 by Year\")\n",
    "\n",
    "plt.xlabel(\"Year\")\n",
    "plt.ylabel(\"Diabetic Population per 1000\")\n",
    "\n"
   ]
  },
  {
   "cell_type": "code",
   "execution_count": null,
   "metadata": {},
   "outputs": [],
   "source": [
    "# add line chart for total diabetes population per year\n",
    "# x- axis is Year, y-axis is % Diabetic\n",
    "plt.plot(years, diabetic_population)\n",
    "\n",
    "plt.title(\"Total Illinois Diabetic Population by Year\")\n",
    "plt.grid()\n",
    "plt.xlabel(\"Year\")\n",
    "plt.ylabel(\"Diabetic Populations\")"
   ]
  },
  {
   "cell_type": "code",
   "execution_count": null,
   "metadata": {},
   "outputs": [],
   "source": [
    "# add column to the original dataframe, for fast food per capita (number of restaurants per 1000 people)\n",
    "diabetes_fastfood_df[\"Restaurant per Capita\"] = \\\n",
    "                    diabetes_fastfood_df[\"Restaurant Count\"]/(diabetes_fastfood_df[\"Population\"]/1000)\n",
    "diabetes_fastfood_df.head()"
   ]
  },
  {
   "cell_type": "code",
   "execution_count": null,
   "metadata": {},
   "outputs": [],
   "source": [
    "# creatte scatter plot for fast food per capita on x and % diabetes on y, a chart for each year\n",
    "# 2011\n",
    "\n",
    "\n",
    "for year in years:\n",
    "    year_data = diabetes_fastfood_df.loc[diabetes_fastfood_df[\"Year\"] == year, :]\n",
    "    restaurants = year_data[\"Restaurant per Capita\"]\n",
    "    diabetes = year_data[\"% Diabetic\"]\n",
    "    plt.scatter(restaurants,diabetes)\n",
    "    plt.title(year)\n",
    " \n",
    "    plt.grid()\n",
    "    plt.ylabel(\"% Diabetic\")\n",
    "    plt.xlabel(\"Restaurants per Capita\")\n",
    "    plt.show()\n"
   ]
  },
  {
   "cell_type": "code",
   "execution_count": null,
   "metadata": {},
   "outputs": [],
   "source": [
    "# Scatter plot with Linear regression for the combined (all years) dataset\n",
    "x_values = diabetes_fastfood_df['Restaurant per Capita']\n",
    "y_values = diabetes_fastfood_df['% Diabetic']\n",
    "(slope, intercept, rvalue, pvalue, stderr) = linregress(x_values, y_values)\n",
    "regress_values = x_values * slope + intercept\n",
    "line_eq = \"y = \" + str(round(slope,2)) + \"x + \" + str(round(intercept,2))\n",
    "plt.scatter(x_values,y_values)\n",
    "plt.plot(x_values,regress_values,\"r-\")\n",
    "plt.annotate(line_eq,(0.7,17),fontsize=15,color=\"red\")\n",
    "plt.xlabel('Restaurant per Capita')\n",
    "plt.ylabel('% Diabetic')\n",
    "plt.title(\"% Diabetic vs. Restaurants per Capita, All Years\")\n",
    "print(f\"The r-squared is: {rvalue**2}\")\n",
    "plt.show()\n",
    "\n",
    "print(\"The low r-squared value indicates that variation in the % diabetic population\\n  is not very well explained by the restaurants per capita in Illinois\")"
   ]
  },
  {
   "cell_type": "code",
   "execution_count": null,
   "metadata": {},
   "outputs": [],
   "source": [
    "# -----------------------------------------------------------------------------------------Hai's queue!!!\n",
    "diabetes_fastfood_df.head()"
   ]
  },
  {
   "cell_type": "code",
   "execution_count": null,
   "metadata": {},
   "outputs": [],
   "source": [
    "# Now we want to perform a hypothesis test\n",
    "# Our hypothesis is that the number of fast food restaurants per capita in Illinois has an effect on \n",
    "# the percentage of the population with diabetes\n",
    "\n",
    "# The null hypothesis is:  The number of fast food restaurants per capita in Illinois has NO effect on \n",
    "# the percentage of the population with diabetes\n",
    "\n",
    "# We did two tests:  First an independent T-test, then an ANOVA"
   ]
  },
  {
   "cell_type": "code",
   "execution_count": null,
   "metadata": {},
   "outputs": [],
   "source": [
    "# Set up a sample of restaurants that have a low number of restaurants per capital\n",
    "#  We chose Restaurants per Capita < 0.5\n",
    "\n",
    "lower_rest_per_head_df = diabetes_fastfood_df.loc[diabetes_fastfood_df[\"Restaurant per Capita\"] < 0.5,:]\n",
    "lower_rest_per_head_df"
   ]
  },
  {
   "cell_type": "code",
   "execution_count": null,
   "metadata": {},
   "outputs": [],
   "source": [
    "higher_rest_per_head_df = diabetes_fastfood_df.loc[diabetes_fastfood_df[\"Restaurant per Capita\"] >= 0.5,:]\n",
    "higher_rest_per_head_df"
   ]
  },
  {
   "cell_type": "code",
   "execution_count": null,
   "metadata": {},
   "outputs": [],
   "source": [
    "lower_restaurant_group = lower_rest_per_head_df[\"% Diabetic\"]\n",
    "lower_restaurant_group"
   ]
  },
  {
   "cell_type": "code",
   "execution_count": null,
   "metadata": {},
   "outputs": [],
   "source": [
    "higher_restaurant_group = higher_rest_per_head_df[\"% Diabetic\"]\n",
    "higher_restaurant_group"
   ]
  },
  {
   "cell_type": "code",
   "execution_count": null,
   "metadata": {},
   "outputs": [],
   "source": [
    "# Do independent sample T-Test\n",
    "\n",
    "stats.ttest_ind(lower_restaurant_group, higher_restaurant_group, axis=0, equal_var=False)"
   ]
  },
  {
   "cell_type": "code",
   "execution_count": null,
   "metadata": {},
   "outputs": [],
   "source": [
    "print(\"The pvalue is > 0.5, meaning we cannot reject the null hypothesis that number of fast food restaurants \\n per capita in Illinois has NO effect on the percentage of the population with diabetes\")"
   ]
  },
  {
   "cell_type": "code",
   "execution_count": null,
   "metadata": {},
   "outputs": [],
   "source": []
  },
  {
   "cell_type": "code",
   "execution_count": null,
   "metadata": {},
   "outputs": [],
   "source": [
    "    # Doing a Histogram Plot of Data to see the overlap of the two groups\n",
    "    plt.subplot(2, 1, 2)\n",
    "    plt.hist(lower_restaurant_group, 10, density=True, alpha=0.7, label=\"lower_diabetic_mean\")\n",
    "    plt.hist(higher_restaurant_group, 10, density=True, alpha=0.7, label=\"higher_diabetic_mean\")\n",
    "    plt.axvline(lower_restaurant_group.mean(), color='k', linestyle='dashed', linewidth=1)\n",
    "    plt.axvline(higher_restaurant_group.mean(), color='k', linestyle='dashed', linewidth=1)\n",
    "    plt.legend()  "
   ]
  },
  {
   "cell_type": "code",
   "execution_count": null,
   "metadata": {},
   "outputs": [],
   "source": [
    "# Now on Dom's advice we are trying an ANOVA using three groups based on the Restaurant per Capita\n",
    "# First assigning buckets of three roughly equal groups of low (<0.44), medium (0.44 <= med < 0.62), and high (>= 0.62)\n",
    "\n",
    "low_rest_per_head_df = diabetes_fastfood_df.loc[diabetes_fastfood_df[\"Restaurant per Capita\"] < 0.44,:]\n",
    "low_rest_per_head_df[\"Rest_per_Capita_Bucket\"] = \"Low\"\n",
    "low_rest_per_head_df.head()"
   ]
  },
  {
   "cell_type": "code",
   "execution_count": null,
   "metadata": {},
   "outputs": [],
   "source": [
    "med_rest_per_head_df = diabetes_fastfood_df.loc[((diabetes_fastfood_df[\"Restaurant per Capita\"] >= 0.44) & (diabetes_fastfood_df[\"Restaurant per Capita\"]<.62)) ,:]\n",
    "med_rest_per_head_df[\"Rest_per_Capita_Bucket\"] = \"Med\"\n",
    "med_rest_per_head_df.head()"
   ]
  },
  {
   "cell_type": "code",
   "execution_count": null,
   "metadata": {},
   "outputs": [],
   "source": [
    "high_rest_per_head_df = diabetes_fastfood_df.loc[diabetes_fastfood_df[\"Restaurant per Capita\"] >= 0.62,:]\n",
    "high_rest_per_head_df[\"Rest_per_Capita_Bucket\"] = \"High\"\n",
    "high_rest_per_head_df.head()"
   ]
  },
  {
   "cell_type": "code",
   "execution_count": null,
   "metadata": {},
   "outputs": [],
   "source": [
    "# Now performing the ANOVA\n",
    "\n",
    "stats.f_oneway(low_rest_per_head_df[\"% Diabetic\"], med_rest_per_head_df[\"% Diabetic\"], high_rest_per_head_df[\"% Diabetic\"])"
   ]
  },
  {
   "cell_type": "code",
   "execution_count": null,
   "metadata": {},
   "outputs": [],
   "source": [
    "print(\"The pvalue is less than 0.05, meaning we reject the null hypothesis using this test\")"
   ]
  },
  {
   "cell_type": "code",
   "execution_count": null,
   "metadata": {},
   "outputs": [],
   "source": [
    "# Now doing some analysis to see which of the three groups is different than the others\n",
    "\n",
    "low_rest_per_head_df[\"% Diabetic\"].mean()"
   ]
  },
  {
   "cell_type": "code",
   "execution_count": null,
   "metadata": {},
   "outputs": [],
   "source": [
    "med_rest_per_head_df[\"% Diabetic\"].mean()"
   ]
  },
  {
   "cell_type": "code",
   "execution_count": null,
   "metadata": {},
   "outputs": [],
   "source": [
    "high_rest_per_head_df[\"% Diabetic\"].mean()"
   ]
  },
  {
   "cell_type": "code",
   "execution_count": null,
   "metadata": {},
   "outputs": [],
   "source": [
    "# It looks like the high group is the most out of line.  Trying another Anova without it\n",
    "\n",
    "stats.f_oneway(low_rest_per_head_df[\"% Diabetic\"], med_rest_per_head_df[\"% Diabetic\"])"
   ]
  },
  {
   "cell_type": "code",
   "execution_count": null,
   "metadata": {},
   "outputs": [],
   "source": [
    "print(\"There is not a statistically significant difference between the low group and medium group.\")"
   ]
  },
  {
   "cell_type": "code",
   "execution_count": null,
   "metadata": {},
   "outputs": [],
   "source": [
    "stats.f_oneway(low_rest_per_head_df[\"% Diabetic\"], high_rest_per_head_df[\"% Diabetic\"])"
   ]
  },
  {
   "cell_type": "code",
   "execution_count": null,
   "metadata": {},
   "outputs": [],
   "source": [
    "print(\"There is a statistically significant difference between the low group and high group.\")"
   ]
  },
  {
   "cell_type": "code",
   "execution_count": null,
   "metadata": {},
   "outputs": [],
   "source": [
    "stats.f_oneway(med_rest_per_head_df[\"% Diabetic\"], high_rest_per_head_df[\"% Diabetic\"])"
   ]
  },
  {
   "cell_type": "code",
   "execution_count": null,
   "metadata": {},
   "outputs": [],
   "source": [
    "print(\"There is not a statistically significant difference between the medium group and high group. (barely)\")"
   ]
  },
  {
   "cell_type": "code",
   "execution_count": null,
   "metadata": {},
   "outputs": [],
   "source": [
    "# Finally, want to do a box plot to visually see the differences between the three groups"
   ]
  },
  {
   "cell_type": "code",
   "execution_count": null,
   "metadata": {},
   "outputs": [],
   "source": [
    "# concatenate the three bucket dataframes back together\n",
    "low_med_df = pd.concat([low_rest_per_head_df, med_rest_per_head_df], ignore_index=True)\n",
    "low_med_high_df = pd.concat([low_med_df, high_rest_per_head_df], ignore_index=True)\n",
    "low_med_high_df"
   ]
  },
  {
   "cell_type": "code",
   "execution_count": null,
   "metadata": {},
   "outputs": [],
   "source": [
    "# perform the box plot\n",
    "low_med_high_df.boxplot('% Diabetic', by='Rest_per_Capita_Bucket', figsize=(20, 10))\n",
    "plt.xlabel(\"Restaurant per Capita Bucket\")\n",
    "plt.ylabel(\"% Diabetic\")"
   ]
  },
  {
   "cell_type": "code",
   "execution_count": null,
   "metadata": {},
   "outputs": [],
   "source": []
  }
 ],
 "metadata": {
  "kernelspec": {
   "display_name": "Python 3",
   "language": "python",
   "name": "python3"
  },
  "language_info": {
   "codemirror_mode": {
    "name": "ipython",
    "version": 3
   },
   "file_extension": ".py",
   "mimetype": "text/x-python",
   "name": "python",
   "nbconvert_exporter": "python",
   "pygments_lexer": "ipython3",
   "version": "3.8.8"
  }
 },
 "nbformat": 4,
 "nbformat_minor": 2
}
