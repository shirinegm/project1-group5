{
 "cells": [
  {
   "cell_type": "code",
   "execution_count": null,
   "metadata": {},
   "outputs": [],
   "source": [
    "import pandas as pd\n",
    "import numpy as np\n",
    "import matplotlib.pyplot as plt"
   ]
  },
  {
   "cell_type": "code",
   "execution_count": null,
   "metadata": {},
   "outputs": [],
   "source": [
    "# import cleaned data for diabetes and fastfood per county(FIPS) and year\n",
    "diabetes_fastfood = 'diab_fastfood_clean_df.csv'\n",
    "diabetes_fastfood_pd = pd.read_csv(diabetes_fastfood)\n",
    "\n",
    "diabetes_fastfood_pd.head()"
   ]
  },
  {
   "cell_type": "code",
   "execution_count": null,
   "metadata": {},
   "outputs": [],
   "source": [
    "# Time for some exploration\n",
    "\n",
    "county_stats = diabetes_fastfood_pd.groupby(\"County\")\n",
    "county_stats.mean()"
   ]
  },
  {
   "cell_type": "code",
   "execution_count": null,
   "metadata": {},
   "outputs": [],
   "source": [
    "# Spot check some counties\n",
    "check_county = diabetes_fastfood_pd.loc[diabetes_fastfood_pd[\"County\"].isin(['Adams', 'Alexander', 'Cook']), :]\n",
    "check_county"
   ]
  },
  {
   "cell_type": "code",
   "execution_count": null,
   "metadata": {},
   "outputs": [],
   "source": [
    "# plot all counties by year for top populated counties\n",
    "top_counties_dp = diabetes_fastfood_pd.nlargest(10, 'Population')\n",
    "top_counties_dp "
   ]
  },
  {
   "cell_type": "code",
   "execution_count": null,
   "metadata": {},
   "outputs": [],
   "source": [
    "top_counties = top_counties_dp[\"County\"].unique()\n",
    "top_counties"
   ]
  },
  {
   "cell_type": "code",
   "execution_count": null,
   "metadata": {},
   "outputs": [],
   "source": [
    "county_by_year = pd.DataFrame()\n",
    "\n",
    "# plt.plot(years, fast_food)\n",
    "\n",
    "\n",
    "for county in top_counties:\n",
    "    county_by_year = top_counties_dp.loc[top_counties_dp[\"County\"] == county, :]\n",
    "\n",
    "    years = county_by_year[\"Year\"]\n",
    "    fast_food = county_by_year[\"Restaurant Count\"]\n",
    "    plt.plot(years, fast_food, label=county, marker='o')\n",
    "plt.legend()\n",
    "plt.show()\n"
   ]
  },
  {
   "cell_type": "code",
   "execution_count": null,
   "metadata": {},
   "outputs": [],
   "source": [
    "# We need to sort the years..."
   ]
  },
  {
   "cell_type": "code",
   "execution_count": null,
   "metadata": {},
   "outputs": [],
   "source": []
  },
  {
   "cell_type": "code",
   "execution_count": null,
   "metadata": {},
   "outputs": [],
   "source": []
  }
 ],
 "metadata": {
  "kernelspec": {
   "display_name": "Python 3",
   "language": "python",
   "name": "python3"
  },
  "language_info": {
   "codemirror_mode": {
    "name": "ipython",
    "version": 3
   },
   "file_extension": ".py",
   "mimetype": "text/x-python",
   "name": "python",
   "nbconvert_exporter": "python",
   "pygments_lexer": "ipython3",
   "version": "3.8.8"
  }
 },
 "nbformat": 4,
 "nbformat_minor": 2
}
