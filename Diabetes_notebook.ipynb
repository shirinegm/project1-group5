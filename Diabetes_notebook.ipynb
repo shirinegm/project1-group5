{
 "cells": [
  {
   "cell_type": "code",
   "execution_count": null,
   "id": "cb6151a9",
   "metadata": {},
   "outputs": [],
   "source": [
    "# MATT Code starts here\n",
    "\n",
    "# Import Dependencies\n",
    "import pandas as pd\n",
    "import time\n",
    "from api_key import api_key"
   ]
  },
  {
   "cell_type": "code",
   "execution_count": null,
   "id": "9e5eae11",
   "metadata": {},
   "outputs": [],
   "source": [
    "# Save path to data set in a variable\n",
    "Diab2018_data = \"2018Diab.csv\"\n",
    "Diab2019_data = \"2019Diab.csv\"\n",
    "Diab2021_data = \"2021Diab.csv\"\n"
   ]
  },
  {
   "cell_type": "code",
   "execution_count": null,
   "id": "8f6b0bff",
   "metadata": {},
   "outputs": [],
   "source": [
    "# Use Pandas to read 2018 data\n",
    "Diab2018_df = pd.read_csv(Diab2018_data)\n",
    "Diab2018_df.head()"
   ]
  },
  {
   "cell_type": "code",
   "execution_count": null,
   "id": "a584ec57",
   "metadata": {},
   "outputs": [],
   "source": [
    "# Use Pandas to read 2018 data\n",
    "Diab2019_df = pd.read_csv(Diab2019_data)\n",
    "Diab2019_df.head()"
   ]
  },
  {
   "cell_type": "code",
   "execution_count": null,
   "id": "f1030067",
   "metadata": {},
   "outputs": [],
   "source": [
    "# Use Pandas to read 2018 data\n",
    "Diab2021_df = pd.read_csv(Diab2021_data)\n",
    "Diab2021_df.head()"
   ]
  },
  {
   "cell_type": "code",
   "execution_count": null,
   "id": "64d5a81f",
   "metadata": {},
   "outputs": [],
   "source": [
    "# Filter the 2018 data to FIPS, State, County, % Diabetes, and Population Columns\n",
    "Diab2018_filtered_df = Diab2018_df[  [\"FIPS\",\"State\",\"County\",\"% Diabetic\",\"Population\" ]  ]\n",
    "Diab2018_filtered_df.head()"
   ]
  },
  {
   "cell_type": "code",
   "execution_count": null,
   "id": "3541e216",
   "metadata": {},
   "outputs": [],
   "source": [
    "# Filter the 2019 data to FIPS, State, County, % Diabetes, and Population Columns\n",
    "Diab2019_filtered_df = Diab2019_df[  [\"FIPS\",\"State\",\"County\",\"% Diabetic\",\"Population\" ]  ]\n",
    "Diab2019_filtered_df.head()"
   ]
  },
  {
   "cell_type": "code",
   "execution_count": null,
   "id": "c856952e",
   "metadata": {},
   "outputs": [],
   "source": [
    "# Filter the 2021 data to FIPS, State, County, % Diabetes, and Population Columns\n",
    "Diab2021_filtered_df = Diab2021_df[  [\"FIPS\",\"State\",\"County\",\"% Adults with Diabetes\",\"Population\" ]  ]\n",
    "\n",
    "# rename the % Adults with Diabetes column for consistency with 2018 and 2019\n",
    "Diab2021_filtered_df = Diab2021_filtered_df.rename( columns = {\"% Adults with Diabetes\":\"% Diabetic\"} )\n",
    "Diab2021_filtered_df.head()"
   ]
  },
  {
   "cell_type": "code",
   "execution_count": null,
   "id": "1def7f5e",
   "metadata": {},
   "outputs": [],
   "source": [
    "#Add a year column to each dataframe\n",
    "\n",
    "\n",
    "Diab2018_filtered_df.loc[:,['Year']] = 2018\n",
    "Diab2019_filtered_df.loc[:,['Year']] = 2019\n",
    "Diab2021_filtered_df.loc[:,['Year']] = 2021"
   ]
  },
  {
   "cell_type": "code",
   "execution_count": null,
   "id": "5ab384b1",
   "metadata": {},
   "outputs": [],
   "source": [
    "#Verify year column added correctly\n",
    "Diab2018_filtered_df.head()"
   ]
  },
  {
   "cell_type": "code",
   "execution_count": null,
   "id": "7542cb35",
   "metadata": {},
   "outputs": [],
   "source": [
    "Diab2019_filtered_df.head()"
   ]
  },
  {
   "cell_type": "code",
   "execution_count": null,
   "id": "2040b6e3",
   "metadata": {},
   "outputs": [],
   "source": [
    "Diab2021_filtered_df.head()"
   ]
  },
  {
   "cell_type": "code",
   "execution_count": null,
   "id": "aa11352f",
   "metadata": {},
   "outputs": [],
   "source": [
    "# now combine the three dataframes into one by doing a union via concatenation\n",
    "# https://datatofish.com/union-pandas-dataframes/\n",
    "\n",
    "# start with combining 2018 and 2019\n",
    "\n",
    "Diab2018_2019_df = pd.concat([Diab2018_filtered_df, Diab2019_filtered_df])\n",
    "Diab2018_2019_df"
   ]
  },
  {
   "cell_type": "code",
   "execution_count": null,
   "id": "16a1c620",
   "metadata": {},
   "outputs": [],
   "source": [
    "# start with combining 2018 and 2019\n",
    "Diab2018_2019_2021_df = pd.concat([Diab2018_2019_df, Diab2021_filtered_df])\n",
    "Diab2018_2019_2021_df"
   ]
  },
  {
   "cell_type": "code",
   "execution_count": null,
   "id": "d5f5672d",
   "metadata": {},
   "outputs": [],
   "source": [
    "# Now add a Diabetic Population column (% Diabetic * Population) as it may be useful for analysis\n",
    "\n",
    "Diab2018_2019_2021_df[\"Diabetic Population\"] = round(1/100 * \\\n",
    "    Diab2018_2019_2021_df[\"% Diabetic\"].astype(\n",
    "        int) * Diab2018_2019_2021_df[\"Population\"].astype(int),0)"
   ]
  },
  {
   "cell_type": "code",
   "execution_count": null,
   "id": "a7a3e2aa",
   "metadata": {},
   "outputs": [],
   "source": [
    "Diab2018_2019_2021_df"
   ]
  },
  {
   "cell_type": "code",
   "execution_count": null,
   "id": "60ff4676",
   "metadata": {},
   "outputs": [],
   "source": [
    "Diab2018_2019_2021_df.dtypes\n",
    "# MATT code ends here"
   ]
  },
  {
   "cell_type": "code",
   "execution_count": null,
   "id": "3ed69fd6",
   "metadata": {},
   "outputs": [],
   "source": [
    "# TESTING STARTS HERE"
   ]
  },
  {
   "cell_type": "code",
   "execution_count": null,
   "id": "ffbcf74a",
   "metadata": {},
   "outputs": [],
   "source": [
    "FakeFastFood = \"FakeFastFood_Testing.csv\"\n",
    "\n",
    "FakeFastFood_df = pd.read_csv(FakeFastFood)\n",
    "FakeFastFood_df"
   ]
  },
  {
   "cell_type": "code",
   "execution_count": null,
   "id": "1b56b716",
   "metadata": {},
   "outputs": [],
   "source": [
    "grouped_fast_food=FakeFastFood_df.groupby( ['FIPS'])"
   ]
  },
  {
   "cell_type": "code",
   "execution_count": null,
   "id": "71435013",
   "metadata": {},
   "outputs": [],
   "source": [
    "grouped_fast_food.count()"
   ]
  },
  {
   "cell_type": "code",
   "execution_count": null,
   "id": "54ef6023",
   "metadata": {},
   "outputs": [],
   "source": [
    "# Dependencies\n",
    "# Dependencies\n",
    "\n",
    "import numpy as np\n",
    "import requests\n",
    "import json\n",
    "\n",
    "# Google API Key\n",
    "from config import gkey"
   ]
  },
  {
   "cell_type": "code",
   "execution_count": null,
   "id": "bf80a873",
   "metadata": {},
   "outputs": [],
   "source": [
    "# 1. What are the geocoordinates (latitude and longitude) of Seattle,\n",
    "# Washington?\n",
    "target_city = \"Bloomington, Illinois\"\n",
    "\n",
    "params = {\"address\": target_city, \"key\": gkey}"
   ]
  },
  {
   "cell_type": "code",
   "execution_count": null,
   "id": "7962dc5b",
   "metadata": {},
   "outputs": [],
   "source": [
    "# Build URL using the Google Maps API\n",
    "base_url = \"https://maps.googleapis.com/maps/api/geocode/json\"\n",
    "\n",
    "print(f\"Drill #1: The Geocoordinates of {target_city}\")\n",
    "\n",
    "# Run request\n",
    "response = requests.get(base_url, params=params)\n",
    "\n",
    "# print the response URL, avoid doing for public GitHub repos in order to avoid exposing key\n",
    "print(response.url)"
   ]
  },
  {
   "cell_type": "code",
   "execution_count": null,
   "id": "d4220d93",
   "metadata": {},
   "outputs": [],
   "source": [
    "# Convert to JSON\n",
    "Bloomington_geo = response.json()\n",
    "\n",
    "# Extract lat/lng\n",
    "# lat = Bloomington_geo[\"results\"][0][\"geometry\"][\"location\"][\"lat\"]\n",
    "# lng = Bloomington_geo[\"results\"][0][\"geometry\"][\"location\"][\"lng\"]\n",
    "\n",
    "place_id = Bloomington_geo[\"results\"][0][\"place_id\"]\n",
    "\n",
    "\n",
    "# Print results\n",
    "print(f\"{target_city}: {place_id}\")"
   ]
  },
  {
   "cell_type": "code",
   "execution_count": null,
   "id": "83f19f06",
   "metadata": {},
   "outputs": [],
   "source": [
    "target_search = \"McDonald's\"\n",
    "target_radius = 80000\n",
    "#base_url = \"https://maps.googleapis.com/maps/api/place/nearbysearch/json\"\n",
    "\n",
    "base_url = \"https://maps.googleapis.com/maps/api/place/details/output?parameters\"\n",
    "\n",
    "params = {\n",
    "    #\"location\": \"40.4842027,-88.99368729999999\", \n",
    "    \n",
    "    \"rankby\": \"distance\",\n",
    "    \"type\": \"fast food restaurant\",\n",
    "    \"keyword\": target_search,\n",
    "    #\"radius\": target_radius,\n",
    "    \"key\": gkey,\n",
    "}"
   ]
  },
  {
   "cell_type": "code",
   "execution_count": null,
   "id": "042fe24b",
   "metadata": {},
   "outputs": [],
   "source": [
    "response = requests.get(base_url, params=params)#.json()\n",
    "    \n"
   ]
  },
  {
   "cell_type": "code",
   "execution_count": null,
   "id": "3bfc88ed",
   "metadata": {},
   "outputs": [],
   "source": [
    "print(response.url)"
   ]
  },
  {
   "cell_type": "code",
   "execution_count": null,
   "id": "ad54f1a6",
   "metadata": {},
   "outputs": [],
   "source": [
    "base_url2 = \"https://maps.googleapis.com/maps/api/place/details/output?parameters\"\n",
    "place = \"ChIJwZoIOXAIC4gRHrwjSqVKQi4\"\n",
    "params2 = {\n",
    "    \"place_id\":place,\n",
    "    \"key\": gkey,\n",
    "}"
   ]
  },
  {
   "cell_type": "code",
   "execution_count": null,
   "id": "eede0af8",
   "metadata": {},
   "outputs": [],
   "source": [
    "response = requests.get(base_url, params=params)\n",
    "print(response.url)"
   ]
  },
  {
   "cell_type": "code",
   "execution_count": null,
   "id": "29d5966c",
   "metadata": {},
   "outputs": [],
   "source": []
  },
  {
   "cell_type": "code",
   "execution_count": null,
   "id": "75876bc3",
   "metadata": {},
   "outputs": [],
   "source": [
    "base_url=\"https://api.yelp.com/v3/businesses/search\""
   ]
  },
  {
   "cell_type": "code",
   "execution_count": null,
   "id": "9c262a8e",
   "metadata": {},
   "outputs": [],
   "source": [
    "my_headers = {\"Authorization\": \"bearer %s\" % api_key}"
   ]
  },
  {
   "cell_type": "code",
   "execution_count": null,
   "id": "7d8b72b6",
   "metadata": {},
   "outputs": [],
   "source": [
    "\n"
   ]
  },
  {
   "cell_type": "code",
   "execution_count": null,
   "id": "16592ecf",
   "metadata": {},
   "outputs": [],
   "source": [
    "# Bring in the IL_Zipcode_CountyName lookup file\n",
    "\n",
    "il_zips_counties = \"IL_Zipcode_CountyName.csv\"\n",
    "il_zips_counties_df = pd.read_csv(il_zips_counties)\n",
    "il_zips_counties_df.head()"
   ]
  },
  {
   "cell_type": "code",
   "execution_count": null,
   "id": "c5fb0784",
   "metadata": {},
   "outputs": [],
   "source": [
    "# create a list of illinois zip codes:\n",
    "location_zips = [\"61739\",\"60004\",\" \",\"61820\"]\n",
    "# location_zips = [\" \"]\n",
    "#location_zips = il_zips_counties_df[\"ZIP\"].tolist()\n"
   ]
  },
  {
   "cell_type": "code",
   "execution_count": null,
   "id": "9aac44c6",
   "metadata": {},
   "outputs": [],
   "source": [
    "#print(json.dumps(business_data, indent=4,sort_keys=True))"
   ]
  },
  {
   "cell_type": "code",
   "execution_count": null,
   "id": "45a004f4",
   "metadata": {},
   "outputs": [],
   "source": [
    "   \n"
   ]
  },
  {
   "cell_type": "code",
   "execution_count": null,
   "id": "dc96b5e8",
   "metadata": {},
   "outputs": [],
   "source": [
    "names = []\n",
    "zips = []\n",
    "states=[]\n",
    "ids=[]\n",
    "addresses=[]\n",
    "lats=[]\n",
    "lngs=[]\n",
    "\n",
    "for loc in location_zips:\n",
    "    parameters = {\"term\": \"fast food\",\n",
    "              #\"radius\": 40000,\n",
    "              \"location\": loc, \n",
    "              \"limit\": 50,\n",
    "              #\"offset\": 51,                       \n",
    "             }\n",
    "    time.sleep(1)\n",
    "    \n",
    "    try:\n",
    "        response = requests.get(url = base_url, params = parameters, headers = my_headers)\n",
    "        business_data = response.json()\n",
    "        print(f\"Searching zip code {loc}:\")\n",
    "\n",
    "        for x in range (len(business_data[\"businesses\"])):\n",
    "        \n",
    "            try:\n",
    "                print(f\"...........Searching result {x}....\")\n",
    "                names.append(business_data[\"businesses\"][x][\"name\"])\n",
    "                zips.append(business_data[\"businesses\"][x][\"location\"][\"zip_code\"])\n",
    "                states.append(business_data[\"businesses\"][x][\"location\"][\"state\"])\n",
    "                ids.append(business_data[\"businesses\"][x][\"id\"])\n",
    "                addresses.append(business_data[\"businesses\"][x][\"location\"][\"display_address\"])\n",
    "                lats.append(business_data[\"businesses\"][x][\"coordinates\"][\"latitude\"])\n",
    "                lngs.append(business_data[\"businesses\"][x][\"coordinates\"][\"longitude\"])\n",
    "            except (KeyError, IndexError):\n",
    "                print(\"Missing field/result... skipping.\")\n",
    "        \n",
    "    except (KeyError, IndexError):\n",
    "        print(f\"Zip code {loc} is not found.....skipping:\")\n",
    "        pass       \n",
    "            \n",
    "    print(f\"x is {x}\") \n",
    "    if x < 49:\n",
    "        continue\n",
    "    # Now do a second pull to see if there is more than 50 results (i.e. bring in results 51-100)        \n",
    "            \n",
    "    parameters = {\"term\": \"fast food\",\n",
    "              #\"radius\": 40000,\n",
    "              \"location\": loc, \n",
    "              \"limit\": 50,\n",
    "              \"offset\": 51,                       \n",
    "             }\n",
    "    time.sleep(1)\n",
    "    \n",
    "    try:\n",
    "        response = requests.get(url = base_url, params = parameters, headers = my_headers)\n",
    "        business_data = response.json()\n",
    "        print(f\"Searching zip code {loc} one more time:\")\n",
    "\n",
    "        for x in range (len(business_data[\"businesses\"])):\n",
    "        \n",
    "            try:\n",
    "                print(f\"...........Searching result {x+50}....\")\n",
    "                names.append(business_data[\"businesses\"][x][\"name\"])\n",
    "                zips.append(business_data[\"businesses\"][x][\"location\"][\"zip_code\"])\n",
    "                states.append(business_data[\"businesses\"][x][\"location\"][\"state\"])\n",
    "                ids.append(business_data[\"businesses\"][x][\"id\"])\n",
    "                addresses.append(business_data[\"businesses\"][x][\"location\"][\"display_address\"])\n",
    "                lats.append(business_data[\"businesses\"][x][\"coordinates\"][\"latitude\"])\n",
    "                lngs.append(business_data[\"businesses\"][x][\"coordinates\"][\"longitude\"])\n",
    "            except (KeyError, IndexError):\n",
    "                print(\"Missing field/result... skipping.\")\n",
    "        \n",
    "    except (KeyError, IndexError):\n",
    "        print(f\"Zip code {loc} is not found.....skipping:\")\n",
    "        pass       \n",
    "         "
   ]
  },
  {
   "cell_type": "code",
   "execution_count": null,
   "id": "9805e007",
   "metadata": {},
   "outputs": [],
   "source": [
    "# create a data frame from cities, lat, and temp\n",
    "yelp_fastfood_dict = {\n",
    "    \"id\": ids,\n",
    "    \"name\": names,\n",
    "    \"Address\": addresses,\n",
    "    \"zip code\": zips,\n",
    "    \"state\": states,\n",
    "    \"lat\": lats,\n",
    "    \"lng\": lngs,\n",
    "}\n",
    "yelp_fastfood_df = pd.DataFrame(yelp_fastfood_dict)\n",
    "yelp_fastfood_df"
   ]
  },
  {
   "cell_type": "code",
   "execution_count": null,
   "id": "983bb3e2",
   "metadata": {},
   "outputs": [],
   "source": [
    "group_by_id = yelp_fastfood_df.groupby( [\"id\"])\n",
    "distinct_ids = group_by_id[\"id\"].value_counts()\n",
    "distinct_ids"
   ]
  },
  {
   "cell_type": "code",
   "execution_count": null,
   "id": "0bdd78db",
   "metadata": {},
   "outputs": [],
   "source": []
  },
  {
   "cell_type": "code",
   "execution_count": null,
   "id": "deb3a4e2",
   "metadata": {},
   "outputs": [],
   "source": []
  },
  {
   "cell_type": "code",
   "execution_count": null,
   "id": "71c277ed",
   "metadata": {},
   "outputs": [],
   "source": []
  },
  {
   "cell_type": "code",
   "execution_count": null,
   "id": "6ce1d15e",
   "metadata": {},
   "outputs": [],
   "source": []
  },
  {
   "cell_type": "code",
   "execution_count": null,
   "id": "f8f3ca4c",
   "metadata": {},
   "outputs": [],
   "source": []
  },
  {
   "cell_type": "code",
   "execution_count": null,
   "id": "46f056ff",
   "metadata": {},
   "outputs": [],
   "source": []
  },
  {
   "cell_type": "code",
   "execution_count": null,
   "id": "bf84b70b",
   "metadata": {},
   "outputs": [],
   "source": []
  }
 ],
 "metadata": {
  "kernelspec": {
   "display_name": "Python 3",
   "language": "python",
   "name": "python3"
  },
  "language_info": {
   "codemirror_mode": {
    "name": "ipython",
    "version": 3
   },
   "file_extension": ".py",
   "mimetype": "text/x-python",
   "name": "python",
   "nbconvert_exporter": "python",
   "pygments_lexer": "ipython3",
   "version": "3.8.8"
  }
 },
 "nbformat": 4,
 "nbformat_minor": 5
}
